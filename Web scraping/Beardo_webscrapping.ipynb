{
 "cells": [
  {
   "cell_type": "code",
   "execution_count": 16,
   "id": "8e617cdd",
   "metadata": {
    "scrolled": false
   },
   "outputs": [],
   "source": [
    "import pandas as pd\n",
    "import requests\n",
    "from bs4 import BeautifulSoup\n",
    "URL = \"https://beardo.in/\"\n",
    "HEADER = ({'User-Agent':'Mozilla/5.0 (Windows NT 10.0; Win64; x64) AppleWebKit/537.36 (KHTML, like Gecko) Chrome/124.0.0.0 Safari/537.36','Accept-Language': 'en-US, en;q=0.5'})\n",
    "webpage = requests.get(URL, headers = HEADER)\n",
    "soup = BeautifulSoup(webpage.content,'html.parser')\n",
    "discounts= soup.find_all('div', class_ = 'discount_msg')\n",
    "d = {'coupon_code':[],'requirement':[]}\n",
    "for discount in discounts:\n",
    "    data_discode = discount.get('data-discode')\n",
    "    if data_discode:\n",
    "        d['coupon_code'].append(data_discode)\n",
    "    else:\n",
    "        d['coupon_code'].append(None)\n",
    "                                \n",
    "    links = discount.get('data-dismsg')\n",
    "    dismsg_soup = BeautifulSoup(links,'html.parser')\n",
    "    anchor = dismsg_soup.find_all('a')\n",
    "    if anchor:\n",
    "        for msgs in anchor:\n",
    "            msg = msgs.get('href')\n",
    "            msg = \"https://beardo.in/\"+msg\n",
    "            if msg:\n",
    "                d['requirement'].append(msg)\n",
    "            else:\n",
    "                d['requirement'].append(None)\n",
    "    else:\n",
    "        d['requirement'].append(None)\n",
    "beardo_df = pd.DataFrame.from_dict(d)\n",
    "beardo_df['requirement'] = beardo_df['requirement'].fillna('None')\n",
    "beardo_df.dropna(how = 'all' ,inplace = True)\n",
    "beardo_df.to_excel('D:\\Cdac\\Git\\Data_analyst_portfolio\\Web scraping\\Beardo.xlsx')"
   ]
  },
  {
   "cell_type": "code",
   "execution_count": null,
   "id": "db1ad00c",
   "metadata": {},
   "outputs": [],
   "source": []
  }
 ],
 "metadata": {
  "kernelspec": {
   "display_name": "Python 3 (ipykernel)",
   "language": "python",
   "name": "python3"
  },
  "language_info": {
   "codemirror_mode": {
    "name": "ipython",
    "version": 3
   },
   "file_extension": ".py",
   "mimetype": "text/x-python",
   "name": "python",
   "nbconvert_exporter": "python",
   "pygments_lexer": "ipython3",
   "version": "3.11.7"
  }
 },
 "nbformat": 4,
 "nbformat_minor": 5
}
